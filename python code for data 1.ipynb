{
 "cells": [
  {
   "cell_type": "code",
   "execution_count": 2,
   "metadata": {},
   "outputs": [
    {
     "name": "stdout",
     "output_type": "stream",
     "text": [
      "Defaulting to user installation because normal site-packages is not writeable\n",
      "Collecting pandas\n",
      "  Downloading pandas-2.2.1-cp312-cp312-win_amd64.whl.metadata (19 kB)\n",
      "Collecting numpy<2,>=1.26.0 (from pandas)\n",
      "  Downloading numpy-1.26.4-cp312-cp312-win_amd64.whl.metadata (61 kB)\n",
      "     ---------------------------------------- 0.0/61.0 kB ? eta -:--:--\n",
      "     -------------------- ------------------- 30.7/61.0 kB 1.3 MB/s eta 0:00:01\n",
      "     ---------------------------------------- 61.0/61.0 kB 1.6 MB/s eta 0:00:00\n",
      "Requirement already satisfied: python-dateutil>=2.8.2 in c:\\users\\karun\\appdata\\local\\packages\\pythonsoftwarefoundation.python.3.12_qbz5n2kfra8p0\\localcache\\local-packages\\python312\\site-packages (from pandas) (2.9.0.post0)\n",
      "Collecting pytz>=2020.1 (from pandas)\n",
      "  Downloading pytz-2024.1-py2.py3-none-any.whl.metadata (22 kB)\n",
      "Collecting tzdata>=2022.7 (from pandas)\n",
      "  Downloading tzdata-2024.1-py2.py3-none-any.whl.metadata (1.4 kB)\n",
      "Requirement already satisfied: six>=1.5 in c:\\users\\karun\\appdata\\local\\packages\\pythonsoftwarefoundation.python.3.12_qbz5n2kfra8p0\\localcache\\local-packages\\python312\\site-packages (from python-dateutil>=2.8.2->pandas) (1.16.0)\n",
      "Downloading pandas-2.2.1-cp312-cp312-win_amd64.whl (11.5 MB)\n",
      "   ---------------------------------------- 0.0/11.5 MB ? eta -:--:--\n",
      "   ---------------------------------------- 0.1/11.5 MB 3.6 MB/s eta 0:00:04\n",
      "   -- ------------------------------------- 0.6/11.5 MB 7.4 MB/s eta 0:00:02\n",
      "   --- ------------------------------------ 1.0/11.5 MB 8.0 MB/s eta 0:00:02\n",
      "   ----- ---------------------------------- 1.5/11.5 MB 8.2 MB/s eta 0:00:02\n",
      "   ------ --------------------------------- 2.0/11.5 MB 9.0 MB/s eta 0:00:02\n",
      "   -------- ------------------------------- 2.3/11.5 MB 8.8 MB/s eta 0:00:02\n",
      "   -------- ------------------------------- 2.6/11.5 MB 8.7 MB/s eta 0:00:02\n",
      "   ---------- ----------------------------- 3.1/11.5 MB 8.7 MB/s eta 0:00:01\n",
      "   ----------- ---------------------------- 3.2/11.5 MB 8.6 MB/s eta 0:00:01\n",
      "   ----------- ---------------------------- 3.2/11.5 MB 8.6 MB/s eta 0:00:01\n",
      "   -------------- ------------------------- 4.3/11.5 MB 8.5 MB/s eta 0:00:01\n",
      "   --------------- ------------------------ 4.4/11.5 MB 7.7 MB/s eta 0:00:01\n",
      "   ---------------- ----------------------- 4.8/11.5 MB 7.8 MB/s eta 0:00:01\n",
      "   ------------------ --------------------- 5.2/11.5 MB 7.9 MB/s eta 0:00:01\n",
      "   ------------------ --------------------- 5.3/11.5 MB 8.1 MB/s eta 0:00:01\n",
      "   ------------------ --------------------- 5.4/11.5 MB 7.5 MB/s eta 0:00:01\n",
      "   -------------------- ------------------- 5.9/11.5 MB 7.4 MB/s eta 0:00:01\n",
      "   -------------------- ------------------- 6.0/11.5 MB 7.2 MB/s eta 0:00:01\n",
      "   ---------------------- ----------------- 6.4/11.5 MB 7.2 MB/s eta 0:00:01\n",
      "   ----------------------- ---------------- 6.7/11.5 MB 7.1 MB/s eta 0:00:01\n",
      "   ------------------------ --------------- 6.9/11.5 MB 6.9 MB/s eta 0:00:01\n",
      "   ------------------------ --------------- 7.1/11.5 MB 6.8 MB/s eta 0:00:01\n",
      "   ------------------------- -------------- 7.2/11.5 MB 6.6 MB/s eta 0:00:01\n",
      "   ------------------------- -------------- 7.4/11.5 MB 6.5 MB/s eta 0:00:01\n",
      "   -------------------------- ------------- 7.5/11.5 MB 6.3 MB/s eta 0:00:01\n",
      "   -------------------------- ------------- 7.7/11.5 MB 6.2 MB/s eta 0:00:01\n",
      "   --------------------------- ------------ 7.8/11.5 MB 6.1 MB/s eta 0:00:01\n",
      "   --------------------------- ------------ 7.9/11.5 MB 6.0 MB/s eta 0:00:01\n",
      "   --------------------------- ------------ 8.0/11.5 MB 5.9 MB/s eta 0:00:01\n",
      "   ---------------------------- ----------- 8.2/11.5 MB 5.8 MB/s eta 0:00:01\n",
      "   ---------------------------- ----------- 8.3/11.5 MB 5.7 MB/s eta 0:00:01\n",
      "   ----------------------------- ---------- 8.4/11.5 MB 5.6 MB/s eta 0:00:01\n",
      "   ----------------------------- ---------- 8.6/11.5 MB 5.5 MB/s eta 0:00:01\n",
      "   ------------------------------ --------- 8.7/11.5 MB 5.4 MB/s eta 0:00:01\n",
      "   ------------------------------ --------- 8.9/11.5 MB 5.3 MB/s eta 0:00:01\n",
      "   ------------------------------- -------- 9.1/11.5 MB 5.3 MB/s eta 0:00:01\n",
      "   -------------------------------- ------- 9.2/11.5 MB 5.3 MB/s eta 0:00:01\n",
      "   -------------------------------- ------- 9.4/11.5 MB 5.2 MB/s eta 0:00:01\n",
      "   --------------------------------- ------ 9.6/11.5 MB 5.1 MB/s eta 0:00:01\n",
      "   ---------------------------------- ----- 9.8/11.5 MB 5.1 MB/s eta 0:00:01\n",
      "   ---------------------------------- ----- 10.0/11.5 MB 5.1 MB/s eta 0:00:01\n",
      "   ----------------------------------- ---- 10.1/11.5 MB 5.0 MB/s eta 0:00:01\n",
      "   ----------------------------------- ---- 10.3/11.5 MB 5.0 MB/s eta 0:00:01\n",
      "   ------------------------------------ --- 10.5/11.5 MB 5.0 MB/s eta 0:00:01\n",
      "   ------------------------------------- -- 10.7/11.5 MB 4.9 MB/s eta 0:00:01\n",
      "   ------------------------------------- -- 10.8/11.5 MB 4.9 MB/s eta 0:00:01\n",
      "   -------------------------------------- - 11.0/11.5 MB 4.9 MB/s eta 0:00:01\n",
      "   ---------------------------------------  11.2/11.5 MB 4.7 MB/s eta 0:00:01\n",
      "   ---------------------------------------  11.5/11.5 MB 4.7 MB/s eta 0:00:01\n",
      "   ---------------------------------------- 11.5/11.5 MB 4.6 MB/s eta 0:00:00\n",
      "Downloading numpy-1.26.4-cp312-cp312-win_amd64.whl (15.5 MB)\n",
      "   ---------------------------------------- 0.0/15.5 MB ? eta -:--:--\n",
      "   ---------------------------------------- 0.2/15.5 MB 5.3 MB/s eta 0:00:03\n",
      "    --------------------------------------- 0.4/15.5 MB 3.9 MB/s eta 0:00:04\n",
      "   - -------------------------------------- 0.6/15.5 MB 4.5 MB/s eta 0:00:04\n",
      "   -- ------------------------------------- 0.8/15.5 MB 4.6 MB/s eta 0:00:04\n",
      "   -- ------------------------------------- 1.0/15.5 MB 4.7 MB/s eta 0:00:04\n",
      "   --- ------------------------------------ 1.2/15.5 MB 4.7 MB/s eta 0:00:04\n",
      "   --- ------------------------------------ 1.4/15.5 MB 4.6 MB/s eta 0:00:04\n",
      "   ---- ----------------------------------- 1.7/15.5 MB 4.7 MB/s eta 0:00:03\n",
      "   ----- ---------------------------------- 1.9/15.5 MB 4.8 MB/s eta 0:00:03\n",
      "   ----- ---------------------------------- 2.2/15.5 MB 4.8 MB/s eta 0:00:03\n",
      "   ------ --------------------------------- 2.4/15.5 MB 4.7 MB/s eta 0:00:03\n",
      "   ------ --------------------------------- 2.6/15.5 MB 4.8 MB/s eta 0:00:03\n",
      "   ------- -------------------------------- 2.9/15.5 MB 4.9 MB/s eta 0:00:03\n",
      "   -------- ------------------------------- 3.1/15.5 MB 4.9 MB/s eta 0:00:03\n",
      "   -------- ------------------------------- 3.4/15.5 MB 4.9 MB/s eta 0:00:03\n",
      "   --------- ------------------------------ 3.6/15.5 MB 4.9 MB/s eta 0:00:03\n",
      "   ---------- ----------------------------- 3.9/15.5 MB 4.9 MB/s eta 0:00:03\n",
      "   ---------- ----------------------------- 4.1/15.5 MB 4.9 MB/s eta 0:00:03\n",
      "   ----------- ---------------------------- 4.4/15.5 MB 5.0 MB/s eta 0:00:03\n",
      "   ----------- ---------------------------- 4.6/15.5 MB 5.0 MB/s eta 0:00:03\n",
      "   ------------ --------------------------- 4.9/15.5 MB 5.0 MB/s eta 0:00:03\n",
      "   ------------- -------------------------- 5.2/15.5 MB 5.1 MB/s eta 0:00:03\n",
      "   -------------- ------------------------- 5.4/15.5 MB 5.0 MB/s eta 0:00:03\n",
      "   -------------- ------------------------- 5.7/15.5 MB 5.1 MB/s eta 0:00:02\n",
      "   --------------- ------------------------ 5.9/15.5 MB 5.1 MB/s eta 0:00:02\n",
      "   --------------- ------------------------ 6.2/15.5 MB 5.1 MB/s eta 0:00:02\n",
      "   ---------------- ----------------------- 6.5/15.5 MB 5.2 MB/s eta 0:00:02\n",
      "   ----------------- ---------------------- 6.8/15.5 MB 5.1 MB/s eta 0:00:02\n",
      "   ------------------ --------------------- 7.0/15.5 MB 5.2 MB/s eta 0:00:02\n",
      "   ------------------ --------------------- 7.3/15.5 MB 5.2 MB/s eta 0:00:02\n",
      "   ------------------- -------------------- 7.6/15.5 MB 5.2 MB/s eta 0:00:02\n",
      "   -------------------- ------------------- 7.9/15.5 MB 5.2 MB/s eta 0:00:02\n",
      "   --------------------- ------------------ 8.2/15.5 MB 5.2 MB/s eta 0:00:02\n",
      "   --------------------- ------------------ 8.5/15.5 MB 5.3 MB/s eta 0:00:02\n",
      "   ---------------------- ----------------- 8.8/15.5 MB 5.3 MB/s eta 0:00:02\n",
      "   ----------------------- ---------------- 9.1/15.5 MB 5.3 MB/s eta 0:00:02\n",
      "   ------------------------ --------------- 9.4/15.5 MB 5.4 MB/s eta 0:00:02\n",
      "   ------------------------- -------------- 9.7/15.5 MB 5.4 MB/s eta 0:00:02\n",
      "   ------------------------- -------------- 10.1/15.5 MB 5.4 MB/s eta 0:00:02\n",
      "   -------------------------- ------------- 10.3/15.5 MB 5.5 MB/s eta 0:00:01\n",
      "   --------------------------- ------------ 10.5/15.5 MB 5.5 MB/s eta 0:00:01\n",
      "   --------------------------- ------------ 10.8/15.5 MB 5.5 MB/s eta 0:00:01\n",
      "   ---------------------------- ----------- 11.1/15.5 MB 5.6 MB/s eta 0:00:01\n",
      "   ----------------------------- ---------- 11.4/15.5 MB 5.6 MB/s eta 0:00:01\n",
      "   ------------------------------ --------- 11.7/15.5 MB 5.6 MB/s eta 0:00:01\n",
      "   ------------------------------ --------- 12.0/15.5 MB 5.6 MB/s eta 0:00:01\n",
      "   ------------------------------- -------- 12.2/15.5 MB 5.7 MB/s eta 0:00:01\n",
      "   ------------------------------- -------- 12.3/15.5 MB 5.7 MB/s eta 0:00:01\n",
      "   -------------------------------- ------- 12.6/15.5 MB 5.6 MB/s eta 0:00:01\n",
      "   --------------------------------- ------ 12.8/15.5 MB 5.6 MB/s eta 0:00:01\n",
      "   --------------------------------- ------ 13.1/15.5 MB 5.6 MB/s eta 0:00:01\n",
      "   ---------------------------------- ----- 13.3/15.5 MB 5.6 MB/s eta 0:00:01\n",
      "   ----------------------------------- ---- 13.6/15.5 MB 5.6 MB/s eta 0:00:01\n",
      "   ----------------------------------- ---- 13.8/15.5 MB 5.6 MB/s eta 0:00:01\n",
      "   ------------------------------------ --- 14.1/15.5 MB 5.7 MB/s eta 0:00:01\n",
      "   ------------------------------------- -- 14.4/15.5 MB 5.6 MB/s eta 0:00:01\n",
      "   ------------------------------------- -- 14.6/15.5 MB 5.6 MB/s eta 0:00:01\n",
      "   -------------------------------------- - 14.9/15.5 MB 5.6 MB/s eta 0:00:01\n",
      "   ---------------------------------------  15.1/15.5 MB 5.6 MB/s eta 0:00:01\n",
      "   ---------------------------------------  15.4/15.5 MB 5.6 MB/s eta 0:00:01\n",
      "   ---------------------------------------- 15.5/15.5 MB 5.5 MB/s eta 0:00:00\n",
      "Downloading pytz-2024.1-py2.py3-none-any.whl (505 kB)\n",
      "   ---------------------------------------- 0.0/505.5 kB ? eta -:--:--\n",
      "   --------------------- ------------------ 266.2/505.5 kB 5.4 MB/s eta 0:00:01\n",
      "   ---------------------------------------- 505.5/505.5 kB 5.3 MB/s eta 0:00:00\n",
      "Downloading tzdata-2024.1-py2.py3-none-any.whl (345 kB)\n",
      "   ---------------------------------------- 0.0/345.4 kB ? eta -:--:--\n",
      "   ----------------------------- ---------- 256.0/345.4 kB 7.9 MB/s eta 0:00:01\n",
      "   ---------------------------------------- 345.4/345.4 kB 5.3 MB/s eta 0:00:00\n",
      "Installing collected packages: pytz, tzdata, numpy, pandas\n",
      "Successfully installed numpy-1.26.4 pandas-2.2.1 pytz-2024.1 tzdata-2024.1\n",
      "Note: you may need to restart the kernel to use updated packages.\n"
     ]
    }
   ],
   "source": [
    "pip install pandas\n"
   ]
  },
  {
   "cell_type": "code",
   "execution_count": 3,
   "metadata": {},
   "outputs": [
    {
     "name": "stdout",
     "output_type": "stream",
     "text": [
      "Defaulting to user installation because normal site-packages is not writeableNote: you may need to restart the kernel to use updated packages.\n",
      "\n",
      "Collecting xlrd\n",
      "  Downloading xlrd-2.0.1-py2.py3-none-any.whl.metadata (3.4 kB)\n",
      "Downloading xlrd-2.0.1-py2.py3-none-any.whl (96 kB)\n",
      "   ---------------------------------------- 0.0/96.5 kB ? eta -:--:--\n",
      "   ---- ----------------------------------- 10.2/96.5 kB ? eta -:--:--\n",
      "   --------------------------------- ------ 81.9/96.5 kB 1.5 MB/s eta 0:00:01\n",
      "   ---------------------------------------- 96.5/96.5 kB 1.4 MB/s eta 0:00:00\n",
      "Installing collected packages: xlrd\n",
      "Successfully installed xlrd-2.0.1\n"
     ]
    }
   ],
   "source": [
    "pip install xlrd\n"
   ]
  },
  {
   "cell_type": "code",
   "execution_count": 18,
   "metadata": {},
   "outputs": [
    {
     "name": "stdout",
     "output_type": "stream",
     "text": [
      "Defaulting to user installation because normal site-packages is not writeable\n",
      "Collecting openpyxl\n",
      "  Downloading openpyxl-3.1.2-py2.py3-none-any.whl.metadata (2.5 kB)\n",
      "Collecting et-xmlfile (from openpyxl)\n",
      "  Downloading et_xmlfile-1.1.0-py3-none-any.whl.metadata (1.8 kB)\n",
      "Downloading openpyxl-3.1.2-py2.py3-none-any.whl (249 kB)\n",
      "   ---------------------------------------- 0.0/250.0 kB ? eta -:--:--\n",
      "   ---- ----------------------------------- 30.7/250.0 kB 1.4 MB/s eta 0:00:01\n",
      "   ------------------------------- -------- 194.6/250.0 kB 3.0 MB/s eta 0:00:01\n",
      "   ---------------------------------------- 250.0/250.0 kB 2.6 MB/s eta 0:00:00\n",
      "Downloading et_xmlfile-1.1.0-py3-none-any.whl (4.7 kB)\n",
      "Installing collected packages: et-xmlfile, openpyxl\n",
      "Successfully installed et-xmlfile-1.1.0 openpyxl-3.1.2\n",
      "Note: you may need to restart the kernel to use updated packages.\n"
     ]
    }
   ],
   "source": [
    "pip install openpyxl\n"
   ]
  },
  {
   "cell_type": "code",
   "execution_count": 19,
   "metadata": {},
   "outputs": [
    {
     "name": "stdout",
     "output_type": "stream",
     "text": [
      "Defaulting to user installation because normal site-packages is not writeableNote: you may need to restart the kernel to use updated packages.\n",
      "\n",
      "Collecting pandas--upgrade\n",
      "  Downloading pandas_upgrade-0.1.0-py3-none-any.whl.metadata (618 bytes)\n",
      "Downloading pandas_upgrade-0.1.0-py3-none-any.whl (2.1 kB)\n",
      "Installing collected packages: pandas--upgrade\n",
      "Successfully installed pandas--upgrade-0.1.0\n"
     ]
    }
   ],
   "source": [
    "pip install pandas--upgrade"
   ]
  },
  {
   "cell_type": "code",
   "execution_count": 27,
   "metadata": {},
   "outputs": [
    {
     "name": "stdout",
     "output_type": "stream",
     "text": [
      "                     Source.Name           Trip_id  from_station_id  \\\n",
      "0       Divvy_Trips_2020_Q1.xlsx           1913004              239   \n",
      "1       Divvy_Trips_2020_Q1.xlsx        8874809021              234   \n",
      "2       Divvy_Trips_2020_Q1.xlsx       17747705038              296   \n",
      "3       Divvy_Trips_2020_Q1.xlsx       26620601055               51   \n",
      "4       Divvy_Trips_2020_Q1.xlsx       35493497072               66   \n",
      "...                          ...               ...              ...   \n",
      "426882  Divvy_Trips_2020_Q1.xlsx  3787679599441990              675   \n",
      "426883  Divvy_Trips_2020_Q1.xlsx  3787688472338010              161   \n",
      "426884  Divvy_Trips_2020_Q1.xlsx  3787697345234030              141   \n",
      "426885  Divvy_Trips_2020_Q1.xlsx  3787706218130050              672   \n",
      "426886  Divvy_Trips_2020_Q1.xlsx  3787715091026060              110   \n",
      "\n",
      "                from_station_name  to_station_id  \\\n",
      "0        Western Ave & Leland Ave          326.0   \n",
      "1         Clark St & Montrose Ave          318.0   \n",
      "2          Broadway & Belmont Ave          117.0   \n",
      "3          Clark St & Randolph St           24.0   \n",
      "4            Clinton St & Lake St          212.0   \n",
      "...                           ...            ...   \n",
      "426882                      HQ QR          675.0   \n",
      "426883      Rush St & Superior St          240.0   \n",
      "426884     Clark St & Lincoln Ave          210.0   \n",
      "426885  Franklin St & Illinois St          264.0   \n",
      "426886      Dearborn St & Erie St           85.0   \n",
      "\n",
      "                       to_station_name    usertype  started_at  ended_at  tot  \\\n",
      "0                Clark St & Leland Ave  subscriber          20        20    0   \n",
      "1       Southport Ave & Irving Park Rd  subscriber          14        14    0   \n",
      "2             Wilton Ave & Belmont Ave  subscriber          19        19    0   \n",
      "3             Fairbanks Ct & Grand Ave  subscriber          16        16    0   \n",
      "4                Wells St & Hubbard St  subscriber           8         8    0   \n",
      "...                                ...         ...         ...       ...  ...   \n",
      "426882                           HQ QR    customer          10        10    0   \n",
      "426883    Sheridan Rd & Irving Park Rd  subscriber          15        16    1   \n",
      "426884       Ashland Ave & Division St    customer          13        13    0   \n",
      "426885    Stetson Ave & South Water St  subscriber          18        18    0   \n",
      "426886           Michigan Ave & Oak St    customer          13        13    0   \n",
      "\n",
      "        weekdays      mean  max  \n",
      "0              6  0.258228  NaN  \n",
      "1              7  0.258228  NaN  \n",
      "2              5  0.258228  NaN  \n",
      "3              2  0.258228  NaN  \n",
      "4              1  0.258228  NaN  \n",
      "...          ...       ...  ...  \n",
      "426882         3  0.258228  NaN  \n",
      "426883         1  0.258228  NaN  \n",
      "426884         6  0.258228  NaN  \n",
      "426885         4  0.258228  NaN  \n",
      "426886         6  0.258228  NaN  \n",
      "\n",
      "[426887 rows x 13 columns]\n"
     ]
    }
   ],
   "source": [
    "import pandas as pd\n",
    "df = pd.read_excel(r\"C:\\Users\\karun\\Downloads\\Book1.xlsx\")\n",
    "print(df)"
   ]
  },
  {
   "cell_type": "code",
   "execution_count": 28,
   "metadata": {},
   "outputs": [
    {
     "name": "stdout",
     "output_type": "stream",
     "text": [
      "Maximum value in the column: 23\n"
     ]
    }
   ],
   "source": [
    "max_value = df['tot'].max()\n",
    "\n",
    "print(\"Maximum value in the column:\", max_value)"
   ]
  },
  {
   "cell_type": "code",
   "execution_count": 29,
   "metadata": {},
   "outputs": [
    {
     "name": "stdout",
     "output_type": "stream",
     "text": [
      "                     Source.Name           Trip_id  from_station_id  \\\n",
      "0       Divvy_Trips_2020_Q1.xlsx           1913004              239   \n",
      "1       Divvy_Trips_2020_Q1.xlsx        8874809021              234   \n",
      "2       Divvy_Trips_2020_Q1.xlsx       17747705038              296   \n",
      "3       Divvy_Trips_2020_Q1.xlsx       26620601055               51   \n",
      "4       Divvy_Trips_2020_Q1.xlsx       35493497072               66   \n",
      "...                          ...               ...              ...   \n",
      "426882  Divvy_Trips_2020_Q1.xlsx  3787679599441990              675   \n",
      "426883  Divvy_Trips_2020_Q1.xlsx  3787688472338010              161   \n",
      "426884  Divvy_Trips_2020_Q1.xlsx  3787697345234030              141   \n",
      "426885  Divvy_Trips_2020_Q1.xlsx  3787706218130050              672   \n",
      "426886  Divvy_Trips_2020_Q1.xlsx  3787715091026060              110   \n",
      "\n",
      "                from_station_name  to_station_id  \\\n",
      "0        Western Ave & Leland Ave          326.0   \n",
      "1         Clark St & Montrose Ave          318.0   \n",
      "2          Broadway & Belmont Ave          117.0   \n",
      "3          Clark St & Randolph St           24.0   \n",
      "4            Clinton St & Lake St          212.0   \n",
      "...                           ...            ...   \n",
      "426882                      HQ QR          675.0   \n",
      "426883      Rush St & Superior St          240.0   \n",
      "426884     Clark St & Lincoln Ave          210.0   \n",
      "426885  Franklin St & Illinois St          264.0   \n",
      "426886      Dearborn St & Erie St           85.0   \n",
      "\n",
      "                       to_station_name    usertype  started_at  ended_at  tot  \\\n",
      "0                Clark St & Leland Ave  subscriber          20        20    0   \n",
      "1       Southport Ave & Irving Park Rd  subscriber          14        14    0   \n",
      "2             Wilton Ave & Belmont Ave  subscriber          19        19    0   \n",
      "3             Fairbanks Ct & Grand Ave  subscriber          16        16    0   \n",
      "4                Wells St & Hubbard St  subscriber           8         8    0   \n",
      "...                                ...         ...         ...       ...  ...   \n",
      "426882                           HQ QR    customer          10        10    0   \n",
      "426883    Sheridan Rd & Irving Park Rd  subscriber          15        16    1   \n",
      "426884       Ashland Ave & Division St    customer          13        13    0   \n",
      "426885    Stetson Ave & South Water St  subscriber          18        18    0   \n",
      "426886           Michigan Ave & Oak St    customer          13        13    0   \n",
      "\n",
      "        weekdays      mean  max  \n",
      "0              6  0.258228  NaN  \n",
      "1              7  0.258228  NaN  \n",
      "2              5  0.258228  NaN  \n",
      "3              2  0.258228  NaN  \n",
      "4              1  0.258228  NaN  \n",
      "...          ...       ...  ...  \n",
      "426882         3  0.258228  NaN  \n",
      "426883         1  0.258228  NaN  \n",
      "426884         6  0.258228  NaN  \n",
      "426885         4  0.258228  NaN  \n",
      "426886         6  0.258228  NaN  \n",
      "\n",
      "[426887 rows x 13 columns]\n"
     ]
    }
   ],
   "source": [
    "print(df)"
   ]
  },
  {
   "cell_type": "code",
   "execution_count": 32,
   "metadata": {},
   "outputs": [],
   "source": [
    "new_column_value = 23 # Example value\n",
    "df['Max'] = new_column_value\n",
    "\n",
    "# Write the DataFrame back to the Excel file\n",
    "df.to_excel(r\"C:\\Users\\karun\\Downloads\\Book1.xlsx\", index=False)  # Set index=False to avoid writing row numbers as a column"
   ]
  },
  {
   "cell_type": "code",
   "execution_count": 33,
   "metadata": {},
   "outputs": [
    {
     "name": "stdout",
     "output_type": "stream",
     "text": [
      "                     Source.Name           Trip_id  from_station_id  \\\n",
      "0       Divvy_Trips_2020_Q1.xlsx           1913004              239   \n",
      "1       Divvy_Trips_2020_Q1.xlsx        8874809021              234   \n",
      "2       Divvy_Trips_2020_Q1.xlsx       17747705038              296   \n",
      "3       Divvy_Trips_2020_Q1.xlsx       26620601055               51   \n",
      "4       Divvy_Trips_2020_Q1.xlsx       35493497072               66   \n",
      "...                          ...               ...              ...   \n",
      "426882  Divvy_Trips_2020_Q1.xlsx  3787679599441990              675   \n",
      "426883  Divvy_Trips_2020_Q1.xlsx  3787688472338010              161   \n",
      "426884  Divvy_Trips_2020_Q1.xlsx  3787697345234030              141   \n",
      "426885  Divvy_Trips_2020_Q1.xlsx  3787706218130050              672   \n",
      "426886  Divvy_Trips_2020_Q1.xlsx  3787715091026060              110   \n",
      "\n",
      "                from_station_name  to_station_id  \\\n",
      "0        Western Ave & Leland Ave          326.0   \n",
      "1         Clark St & Montrose Ave          318.0   \n",
      "2          Broadway & Belmont Ave          117.0   \n",
      "3          Clark St & Randolph St           24.0   \n",
      "4            Clinton St & Lake St          212.0   \n",
      "...                           ...            ...   \n",
      "426882                      HQ QR          675.0   \n",
      "426883      Rush St & Superior St          240.0   \n",
      "426884     Clark St & Lincoln Ave          210.0   \n",
      "426885  Franklin St & Illinois St          264.0   \n",
      "426886      Dearborn St & Erie St           85.0   \n",
      "\n",
      "                       to_station_name    usertype  started_at  ended_at  tot  \\\n",
      "0                Clark St & Leland Ave  subscriber          20        20    0   \n",
      "1       Southport Ave & Irving Park Rd  subscriber          14        14    0   \n",
      "2             Wilton Ave & Belmont Ave  subscriber          19        19    0   \n",
      "3             Fairbanks Ct & Grand Ave  subscriber          16        16    0   \n",
      "4                Wells St & Hubbard St  subscriber           8         8    0   \n",
      "...                                ...         ...         ...       ...  ...   \n",
      "426882                           HQ QR    customer          10        10    0   \n",
      "426883    Sheridan Rd & Irving Park Rd  subscriber          15        16    1   \n",
      "426884       Ashland Ave & Division St    customer          13        13    0   \n",
      "426885    Stetson Ave & South Water St  subscriber          18        18    0   \n",
      "426886           Michigan Ave & Oak St    customer          13        13    0   \n",
      "\n",
      "        weekdays      mean  max  Max  \n",
      "0              6  0.258228  NaN   23  \n",
      "1              7  0.258228  NaN   23  \n",
      "2              5  0.258228  NaN   23  \n",
      "3              2  0.258228  NaN   23  \n",
      "4              1  0.258228  NaN   23  \n",
      "...          ...       ...  ...  ...  \n",
      "426882         3  0.258228  NaN   23  \n",
      "426883         1  0.258228  NaN   23  \n",
      "426884         6  0.258228  NaN   23  \n",
      "426885         4  0.258228  NaN   23  \n",
      "426886         6  0.258228  NaN   23  \n",
      "\n",
      "[426887 rows x 14 columns]\n"
     ]
    }
   ],
   "source": [
    "print(df)"
   ]
  },
  {
   "cell_type": "code",
   "execution_count": 37,
   "metadata": {},
   "outputs": [],
   "source": [
    "\n",
    "# Drop the column\n",
    "column_to_delete = 'max'  # Replace 'column_name' with the name of the column you want to delete\n",
    "df.drop(columns=[column_to_delete], inplace=True)\n",
    "\n",
    "# Write the modified DataFrame back to the Excel file\n",
    "df.to_excel(r\"C:\\Users\\karun\\Downloads\\Book1.xlsx\", index=False)  # Set index=False to avoid writing row numbers as a column\n"
   ]
  },
  {
   "cell_type": "code",
   "execution_count": 38,
   "metadata": {},
   "outputs": [
    {
     "name": "stdout",
     "output_type": "stream",
     "text": [
      "                     Source.Name           Trip_id  from_station_id  \\\n",
      "0       Divvy_Trips_2020_Q1.xlsx           1913004              239   \n",
      "1       Divvy_Trips_2020_Q1.xlsx        8874809021              234   \n",
      "2       Divvy_Trips_2020_Q1.xlsx       17747705038              296   \n",
      "3       Divvy_Trips_2020_Q1.xlsx       26620601055               51   \n",
      "4       Divvy_Trips_2020_Q1.xlsx       35493497072               66   \n",
      "...                          ...               ...              ...   \n",
      "426882  Divvy_Trips_2020_Q1.xlsx  3787679599441990              675   \n",
      "426883  Divvy_Trips_2020_Q1.xlsx  3787688472338010              161   \n",
      "426884  Divvy_Trips_2020_Q1.xlsx  3787697345234030              141   \n",
      "426885  Divvy_Trips_2020_Q1.xlsx  3787706218130050              672   \n",
      "426886  Divvy_Trips_2020_Q1.xlsx  3787715091026060              110   \n",
      "\n",
      "                from_station_name  to_station_id  \\\n",
      "0        Western Ave & Leland Ave          326.0   \n",
      "1         Clark St & Montrose Ave          318.0   \n",
      "2          Broadway & Belmont Ave          117.0   \n",
      "3          Clark St & Randolph St           24.0   \n",
      "4            Clinton St & Lake St          212.0   \n",
      "...                           ...            ...   \n",
      "426882                      HQ QR          675.0   \n",
      "426883      Rush St & Superior St          240.0   \n",
      "426884     Clark St & Lincoln Ave          210.0   \n",
      "426885  Franklin St & Illinois St          264.0   \n",
      "426886      Dearborn St & Erie St           85.0   \n",
      "\n",
      "                       to_station_name    usertype  started_at  ended_at  tot  \\\n",
      "0                Clark St & Leland Ave  subscriber          20        20    0   \n",
      "1       Southport Ave & Irving Park Rd  subscriber          14        14    0   \n",
      "2             Wilton Ave & Belmont Ave  subscriber          19        19    0   \n",
      "3             Fairbanks Ct & Grand Ave  subscriber          16        16    0   \n",
      "4                Wells St & Hubbard St  subscriber           8         8    0   \n",
      "...                                ...         ...         ...       ...  ...   \n",
      "426882                           HQ QR    customer          10        10    0   \n",
      "426883    Sheridan Rd & Irving Park Rd  subscriber          15        16    1   \n",
      "426884       Ashland Ave & Division St    customer          13        13    0   \n",
      "426885    Stetson Ave & South Water St  subscriber          18        18    0   \n",
      "426886           Michigan Ave & Oak St    customer          13        13    0   \n",
      "\n",
      "        weekdays      mean  Max  \n",
      "0              6  0.258228   23  \n",
      "1              7  0.258228   23  \n",
      "2              5  0.258228   23  \n",
      "3              2  0.258228   23  \n",
      "4              1  0.258228   23  \n",
      "...          ...       ...  ...  \n",
      "426882         3  0.258228   23  \n",
      "426883         1  0.258228   23  \n",
      "426884         6  0.258228   23  \n",
      "426885         4  0.258228   23  \n",
      "426886         6  0.258228   23  \n",
      "\n",
      "[426887 rows x 13 columns]\n"
     ]
    }
   ],
   "source": [
    "print(df)"
   ]
  },
  {
   "cell_type": "code",
   "execution_count": 39,
   "metadata": {},
   "outputs": [],
   "source": [
    "# Write the DataFrame to an Excel file\n",
    "df.to_excel(r\"C:\\Users\\karun\\Downloads\\Book1.xlsx\", index=False)  # Set index=False to avoid writing row numbers as a column"
   ]
  },
  {
   "cell_type": "code",
   "execution_count": 40,
   "metadata": {},
   "outputs": [
    {
     "name": "stdout",
     "output_type": "stream",
     "text": [
      "Mode value in the column: 0\n"
     ]
    }
   ],
   "source": [
    "# Calculate the mode of a column\n",
    "mode_value = df['tot'].mode()[0]  \n",
    "# Replace 'column_name' with the name of the column\n",
    "print(\"Mode value in the column:\", mode_value)"
   ]
  },
  {
   "cell_type": "code",
   "execution_count": 42,
   "metadata": {},
   "outputs": [
    {
     "name": "stdout",
     "output_type": "stream",
     "text": [
      "Mode value in the column: 1\n"
     ]
    }
   ],
   "source": [
    "# Calculate the mode of a column\n",
    "mode_value = df['weekdays'].mode()[0]  \n",
    "# Replace 'column_name' with the name of the column\n",
    "print(\"Mode value in the column:\", mode_value)"
   ]
  },
  {
   "cell_type": "code",
   "execution_count": 43,
   "metadata": {},
   "outputs": [],
   "source": [
    "new_column_value = 1\n",
    " # Example value\n",
    "df['mode_weekdays'] = new_column_value\n",
    "\n",
    "# Write the DataFrame back to the Excel file\n",
    "df.to_excel(r\"C:\\Users\\karun\\Downloads\\Book1.xlsx\", index=False)  # Set index=False to avoid writing row numbers as a column"
   ]
  },
  {
   "cell_type": "code",
   "execution_count": 44,
   "metadata": {},
   "outputs": [
    {
     "name": "stdout",
     "output_type": "stream",
     "text": [
      "                     Source.Name           Trip_id  from_station_id  \\\n",
      "0       Divvy_Trips_2020_Q1.xlsx           1913004              239   \n",
      "1       Divvy_Trips_2020_Q1.xlsx        8874809021              234   \n",
      "2       Divvy_Trips_2020_Q1.xlsx       17747705038              296   \n",
      "3       Divvy_Trips_2020_Q1.xlsx       26620601055               51   \n",
      "4       Divvy_Trips_2020_Q1.xlsx       35493497072               66   \n",
      "...                          ...               ...              ...   \n",
      "426882  Divvy_Trips_2020_Q1.xlsx  3787679599441990              675   \n",
      "426883  Divvy_Trips_2020_Q1.xlsx  3787688472338010              161   \n",
      "426884  Divvy_Trips_2020_Q1.xlsx  3787697345234030              141   \n",
      "426885  Divvy_Trips_2020_Q1.xlsx  3787706218130050              672   \n",
      "426886  Divvy_Trips_2020_Q1.xlsx  3787715091026060              110   \n",
      "\n",
      "                from_station_name  to_station_id  \\\n",
      "0        Western Ave & Leland Ave          326.0   \n",
      "1         Clark St & Montrose Ave          318.0   \n",
      "2          Broadway & Belmont Ave          117.0   \n",
      "3          Clark St & Randolph St           24.0   \n",
      "4            Clinton St & Lake St          212.0   \n",
      "...                           ...            ...   \n",
      "426882                      HQ QR          675.0   \n",
      "426883      Rush St & Superior St          240.0   \n",
      "426884     Clark St & Lincoln Ave          210.0   \n",
      "426885  Franklin St & Illinois St          264.0   \n",
      "426886      Dearborn St & Erie St           85.0   \n",
      "\n",
      "                       to_station_name    usertype  started_at  ended_at  tot  \\\n",
      "0                Clark St & Leland Ave  subscriber          20        20    0   \n",
      "1       Southport Ave & Irving Park Rd  subscriber          14        14    0   \n",
      "2             Wilton Ave & Belmont Ave  subscriber          19        19    0   \n",
      "3             Fairbanks Ct & Grand Ave  subscriber          16        16    0   \n",
      "4                Wells St & Hubbard St  subscriber           8         8    0   \n",
      "...                                ...         ...         ...       ...  ...   \n",
      "426882                           HQ QR    customer          10        10    0   \n",
      "426883    Sheridan Rd & Irving Park Rd  subscriber          15        16    1   \n",
      "426884       Ashland Ave & Division St    customer          13        13    0   \n",
      "426885    Stetson Ave & South Water St  subscriber          18        18    0   \n",
      "426886           Michigan Ave & Oak St    customer          13        13    0   \n",
      "\n",
      "        weekdays      mean  Max  mode_weekdays  \n",
      "0              6  0.258228   23              1  \n",
      "1              7  0.258228   23              1  \n",
      "2              5  0.258228   23              1  \n",
      "3              2  0.258228   23              1  \n",
      "4              1  0.258228   23              1  \n",
      "...          ...       ...  ...            ...  \n",
      "426882         3  0.258228   23              1  \n",
      "426883         1  0.258228   23              1  \n",
      "426884         6  0.258228   23              1  \n",
      "426885         4  0.258228   23              1  \n",
      "426886         6  0.258228   23              1  \n",
      "\n",
      "[426887 rows x 14 columns]\n"
     ]
    }
   ],
   "source": [
    "print(df)"
   ]
  },
  {
   "cell_type": "code",
   "execution_count": 45,
   "metadata": {},
   "outputs": [],
   "source": [
    "df.to_excel(r\"C:\\Users\\karun\\Downloads\\Book1.xlsx\", index=False)  # Set index=False to avoid writing row numbers as a column"
   ]
  },
  {
   "cell_type": "code",
   "execution_count": null,
   "metadata": {},
   "outputs": [],
   "source": []
  }
 ],
 "metadata": {
  "kernelspec": {
   "display_name": "Python 3",
   "language": "python",
   "name": "python3"
  },
  "language_info": {
   "codemirror_mode": {
    "name": "ipython",
    "version": 3
   },
   "file_extension": ".py",
   "mimetype": "text/x-python",
   "name": "python",
   "nbconvert_exporter": "python",
   "pygments_lexer": "ipython3",
   "version": "3.12.2"
  }
 },
 "nbformat": 4,
 "nbformat_minor": 2
}
